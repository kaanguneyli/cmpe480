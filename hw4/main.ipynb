{
 "cells": [
  {
   "cell_type": "markdown",
   "metadata": {},
   "source": [
    "# Source Code"
   ]
  },
  {
   "cell_type": "code",
   "execution_count": 1,
   "metadata": {},
   "outputs": [],
   "source": [
    "import numpy as np\n",
    "import pandas as pd\n",
    "from sklearn.metrics import accuracy_score\n",
    "from sklearn.model_selection import train_test_split\n",
    "\n",
    "class DecisionTree():\n",
    "    def __init__(self, max_depth: int = None, min_samples_split: int = 2):\n",
    "        self.max_depth = max_depth if max_depth is not None else float('inf')  # maximum depth of the tree\n",
    "        self.min_samples_split = min_samples_split  # minimum number of samples required to split an internal node\n",
    "        \n",
    "        # a recursive dictionary that represents the decision tree\n",
    "        # has 4 keys: 'leaf', 'label', 'split_feature', 'children'\n",
    "        # these 4 keys represent only the first node of the tree\n",
    "        # other nodes are stored in the 'children' key recursively\n",
    "        self._tree = None  \n",
    "\n",
    "    def __str__(self):\n",
    "        if self._tree is None:\n",
    "            return \"Decision tree has not been fitted yet.\"\n",
    "\n",
    "        return self._tree_to_str(self._tree, indent=\"\")\n",
    "\n",
    "\n",
    "    def _tree_to_str(self, node, indent=\"\"):\n",
    "        if node['leaf']:\n",
    "            return f\"{indent}Leaf: predicts {node['label']}\\n\"   # return the label of the leaf node\n",
    "\n",
    "        # if the node is not a leaf node, print the split feature and recursively print the children\n",
    "        # also create a tree-like structure with indentations\n",
    "        s = f\"{indent}Split on feature: {node['split_feature']}\\n\"\n",
    "        for val, child_node in node['children'].items():\n",
    "            s += f\"{indent}    Value = {val}:\\n\"\n",
    "            s += self._tree_to_str(child_node, indent + \"        \")\n",
    "        return s\n",
    "\n",
    "\n",
    "    def fit(self, X, y):\n",
    "        self._tree = self._fit(X, y, depth=0)\n",
    "\n",
    "\n",
    "    def _fit(self, X, y, depth):\n",
    "        # return a leaf node if the stopping criteria are met (base case)\n",
    "\n",
    "        # base case 1: if all the labels are the same, return a leaf node\n",
    "        if len(np.unique(y)) == 1:\n",
    "            return {\n",
    "                'leaf': True,\n",
    "                'label': y.iloc[0],\n",
    "                'depth': depth\n",
    "            }\n",
    "        \n",
    "        # base case 2: if there are no features left to split on, return a leaf node\n",
    "        if len(X.columns) == 0:\n",
    "            return {\n",
    "                'leaf': True,\n",
    "                'label': y.value_counts().idxmax(),\n",
    "                'depth': depth\n",
    "            }\n",
    "        \n",
    "        # base case 3: if the maximum depth is reached, return a leaf node\n",
    "        if depth >= self.max_depth:\n",
    "            return {\n",
    "                'leaf': True,\n",
    "                'label': y.value_counts().idxmax(),\n",
    "                'depth': depth\n",
    "            }\n",
    "\n",
    "        # base case 4: if the number of samples is less than the minimum samples required to split, return a leaf node\n",
    "        if len(y) < self.min_samples_split:\n",
    "            return {\n",
    "                'leaf': True,\n",
    "                'label': y.value_counts().idxmax(),\n",
    "                'depth': depth\n",
    "            }\n",
    "        \n",
    "        current_entropy = self._entropy(y)   # calculate the entropy of the current node\n",
    "        \n",
    "        best_info_gain = 0\n",
    "        best_feature = None\n",
    "        best_X_list = []\n",
    "        best_y_list = []\n",
    "\n",
    "        # iterate over all the features and find the one that gives the best information gain\n",
    "        for feature in X.columns:\n",
    "            X_list, y_list = self._split_feature(X, y, feature)\n",
    "            info_gain = self._information_gain(current_entropy, y, y_list)\n",
    "            if info_gain > best_info_gain:\n",
    "                best_info_gain = info_gain\n",
    "                best_feature = feature\n",
    "                best_X_list = X_list\n",
    "                best_y_list = y_list\n",
    "\n",
    "        # base case 5: if the best information gain is 0 (no improvement on the model), return a leaf node\n",
    "        if best_info_gain == 0:\n",
    "            return {\n",
    "                'leaf': True,\n",
    "                'label': y.value_counts().idxmax(),\n",
    "                'depth': depth\n",
    "            }\n",
    "        \n",
    "        depth += 1  # increment the depth of the tree, since we are going to split on a feature\n",
    "\n",
    "        # create a node with the best feature to split on\n",
    "        node = {\n",
    "            'leaf': False,\n",
    "            'split_feature': best_feature,\n",
    "            'children': {},\n",
    "            'label': y.value_counts().idxmax(),  # non-leaf nodes have labels as well (most common label) as a fallout plan\n",
    "            'depth': depth\n",
    "        }\n",
    "        \n",
    "        # recursively create the children of the node\n",
    "        unique_values = np.unique(X[best_feature])\n",
    "        for i, val in enumerate(unique_values):\n",
    "            child_subtree = self._fit(best_X_list[i], best_y_list[i], depth)\n",
    "            node['children'][val] = child_subtree\n",
    "\n",
    "        return node\n",
    "\n",
    "\n",
    "    def predict(self, X):\n",
    "        # apply the _predict_one function to each row of the dataframe\n",
    "        predictions = []\n",
    "        for _, row in X.iterrows():\n",
    "            predictions.append(self._predict_one(row))\n",
    "        return pd.Series(predictions, index=X.index)\n",
    "\n",
    "    \n",
    "    def _predict_one(self, x):\n",
    "        # traverse the tree until a leaf node is reached\n",
    "        # while traversing go to the child node that corresponds to the value of the split feature\n",
    "\n",
    "        node = self._tree\n",
    "        while not node['leaf']:\n",
    "            split_feature = node['split_feature']\n",
    "            val = x[split_feature]\n",
    "            try:\n",
    "                node = node['children'][val]\n",
    "\n",
    "            # occurs when there is a combination of feature values that the model has not seen before\n",
    "            # in this case, return the most common label of the current node\n",
    "            # label field of the non-leaf are used here\n",
    "            except KeyError:                    \n",
    "                return node['label']\n",
    "\n",
    "        return node['label']       \n",
    "            \n",
    "\n",
    "    def cross_validation(self, X, y, params, cross_val_splits=5):\n",
    "        # assign defaults to parameters if they are not provided\n",
    "        if not params['max_depth']:\n",
    "            params['max_depth'] = [None]\n",
    "        if not params['min_samples_split']:\n",
    "            params['min_samples_split'] = [2]\n",
    "\n",
    "        # check if the parameters are valid\n",
    "        for key in params:\n",
    "            if key not in ['max_depth', 'min_samples_split']:\n",
    "                raise ValueError(f\"Invalid parameter: {key}\")\n",
    "            \n",
    "        best_accuracy = 0\n",
    "        len_val = len(X) // cross_val_splits\n",
    "\n",
    "        # iterate over all the hyperparameters\n",
    "        for max_depth in params['max_depth']:\n",
    "            for min_samples_split in params['min_samples_split']:\n",
    "                sum_accuracy = 0\n",
    "                self.max_depth = max_depth if max_depth is not None else float('inf')\n",
    "                self.min_samples_split = min_samples_split\n",
    "                \n",
    "                # iterate over all the cross validation splits\n",
    "                for i in range(cross_val_splits):\n",
    "                    # create the training and validation sets\n",
    "                    X_train_cv = pd.concat([X.iloc[:i*len_val, :].copy(), X.iloc[(i+1)*len_val:, :].copy()])\n",
    "                    X_val = X.iloc[i * len_val: (i + 1) * len_val]\n",
    "                    y_train_cv = pd.concat([y_train.iloc[:i*len_val].copy(), y_train.iloc[(i+1)*len_val:].copy()])\n",
    "                    y_val = y.iloc[i * len(y) // cross_val_splits: (i + 1) * len(y) // cross_val_splits]\n",
    "\n",
    "                    # fit the model and get the accuracy on the validation set\n",
    "                    self.fit(X_train_cv, y_train_cv)\n",
    "                    y_pred_cv = self.predict(X_val)\n",
    "                    sum_accuracy += accuracy_score(y_val, y_pred_cv)\n",
    "\n",
    "                print(f\"max_depth: {max_depth}, min_samples_split: {min_samples_split}, accuracy: {sum_accuracy / cross_val_splits}\")\n",
    "\n",
    "                # update the best hyperparameters if the current model is better\n",
    "                if sum_accuracy / cross_val_splits > best_accuracy:\n",
    "                    best_accuracy = sum_accuracy / cross_val_splits\n",
    "                    best_params = (max_depth, min_samples_split)\n",
    "\n",
    "        print(f\"Best accuracy: {best_accuracy}, Best params: {best_params}\")\n",
    "        return best_params\n",
    "\n",
    "\n",
    "    def _entropy(self, y):\n",
    "        # calculate the entropy of a node for a given variable\n",
    "\n",
    "        classes = np.unique(y)\n",
    "        entropy = 0\n",
    "        for class_ in classes:\n",
    "            nominator = (y == class_).sum()\n",
    "            denominator = len(y)\n",
    "            item = nominator / denominator\n",
    "            entropy -= item * np.log2(item)\n",
    "        return entropy\n",
    "\n",
    "\n",
    "    def _information_gain(self, current_entropy, old_y, new_y_list = []):\n",
    "        # calculate the information gain for a given entropy, variable and list of new splits\n",
    "\n",
    "        for y in new_y_list:\n",
    "            current_entropy -= (len(y) / len(old_y)) * self._entropy(y)\n",
    "        return current_entropy\n",
    "\n",
    "\n",
    "    def _split_feature(self, X, y, feature):\n",
    "        # split the dataset based on the unique values of a feature\n",
    "        # return the new X's and y's as lists\n",
    "        X_list = []\n",
    "        y_list = []\n",
    "        for class_ in np.unique(X[feature]):\n",
    "            mask = X[feature] == class_\n",
    "            X_list.append(X[mask].drop(columns=[feature]))  # drop the feature column to avoid using it again\n",
    "            y_list.append(y[mask])\n",
    "        return X_list, y_list"
   ]
  },
  {
   "cell_type": "code",
   "execution_count": 2,
   "metadata": {},
   "outputs": [],
   "source": [
    "df = pd.read_csv('loan_data.csv')\n",
    "\n",
    "# convert the numerical values to categorical values\n",
    "# apply this to the test data as well, so that the test data has the same categories as the training data\n",
    "numerical_classes = [\n",
    "    'person_age', \n",
    "    'person_income', \n",
    "    'person_emp_exp', \n",
    "    'loan_amnt',\n",
    "    'loan_int_rate', \n",
    "    'loan_percent_income', \n",
    "    'cb_person_cred_hist_length',\n",
    "    'credit_score',\n",
    "]\n",
    "for class_ in numerical_classes:\n",
    "    df[class_] = pd.qcut(df[class_], 5, duplicates='drop')\n",
    "\n",
    "X = df.drop('loan_status', axis=1)\n",
    "y = df['loan_status']\n",
    "\n",
    "# create a train test split\n",
    "X_train, X_test, y_train, y_test = train_test_split(X, y, test_size=0.1, random_state=42)"
   ]
  },
  {
   "cell_type": "code",
   "execution_count": 3,
   "metadata": {},
   "outputs": [
    {
     "name": "stdout",
     "output_type": "stream",
     "text": [
      "max_depth: 5, min_samples_split: 60, accuracy: 0.9041234567901235\n",
      "Best accuracy: 0.9041234567901235, Best params: (5, 60)\n"
     ]
    }
   ],
   "source": [
    "# apply cross validation to find the best hyperparameters\n",
    "dt = DecisionTree()\n",
    "params = {\n",
    "    'max_depth': [5],\n",
    "    'min_samples_split': [60]\n",
    "}\n",
    "best_params = dt.cross_validation(X_train, y_train, params)\n",
    "\n",
    "# create one more instance of the model with the best hyperparameters\n",
    "max_depth, min_samples_split = best_params\n",
    "\n",
    "# Best accuracy: 0.9041234567901235, Best params: (5, 60)"
   ]
  },
  {
   "cell_type": "code",
   "execution_count": 4,
   "metadata": {},
   "outputs": [],
   "source": [
    "dt = DecisionTree(max_depth=max_depth, min_samples_split=min_samples_split)\n",
    "\n",
    "# fit the model and make predictions\n",
    "dt.fit(X_train, y_train)\n",
    "y_pred = dt.predict(X_test)\n",
    "\n",
    "# calculate the accuracy\n",
    "test_acc = accuracy_score(y_test, y_pred)"
   ]
  },
  {
   "cell_type": "code",
   "execution_count": 5,
   "metadata": {},
   "outputs": [],
   "source": [
    "# write the tree to a file to visualize it\n",
    "with open('tree.txt', 'w') as f:\n",
    "    f.write(str(dt))"
   ]
  },
  {
   "cell_type": "code",
   "execution_count": 6,
   "metadata": {},
   "outputs": [
    {
     "data": {
      "application/vnd.plotly.v1+json": {
       "config": {
        "plotlyServerURL": "https://plot.ly"
       },
       "data": [
        {
         "hovertemplate": "variable=train_acc<br>max_depth=%{x}<br>value=%{y}<extra></extra>",
         "legendgroup": "train_acc",
         "line": {
          "color": "#636efa",
          "dash": "solid"
         },
         "marker": {
          "symbol": "circle"
         },
         "mode": "lines",
         "name": "train_acc",
         "orientation": "v",
         "showlegend": true,
         "type": "scatter",
         "x": [
          0,
          1,
          2,
          3,
          4,
          5
         ],
         "xaxis": "x",
         "y": [
          0.7803566529492455,
          0.7803566529492455,
          0.8536899862825789,
          0.8898765432098765,
          0.902962962962963,
          0.9127297668038409
         ],
         "yaxis": "y"
        },
        {
         "hovertemplate": "variable=val_acc<br>max_depth=%{x}<br>value=%{y}<extra></extra>",
         "legendgroup": "val_acc",
         "line": {
          "color": "#EF553B",
          "dash": "solid"
         },
         "marker": {
          "symbol": "circle"
         },
         "mode": "lines",
         "name": "val_acc",
         "orientation": "v",
         "showlegend": true,
         "type": "scatter",
         "x": [
          0,
          1,
          2,
          3,
          4,
          5
         ],
         "xaxis": "x",
         "y": [
          0.7683950617283951,
          0.7683950617283951,
          0.8553086419753086,
          0.8930864197530864,
          0.908395061728395,
          0.9125925925925926
         ],
         "yaxis": "y"
        },
        {
         "hovertemplate": "variable=test_acc<br>max_depth=%{x}<br>value=%{y}<extra></extra>",
         "legendgroup": "test_acc",
         "line": {
          "color": "#00cc96",
          "dash": "solid"
         },
         "marker": {
          "symbol": "circle"
         },
         "mode": "lines",
         "name": "test_acc",
         "orientation": "v",
         "showlegend": true,
         "type": "scatter",
         "x": [
          0,
          1,
          2,
          3,
          4,
          5
         ],
         "xaxis": "x",
         "y": [
          0.7653333333333333,
          0.7653333333333333,
          0.836,
          0.8866666666666667,
          0.9004444444444445,
          0.9044444444444445
         ],
         "yaxis": "y"
        }
       ],
       "layout": {
        "legend": {
         "title": {
          "text": "variable"
         },
         "tracegroupgap": 0
        },
        "template": {
         "data": {
          "bar": [
           {
            "error_x": {
             "color": "#2a3f5f"
            },
            "error_y": {
             "color": "#2a3f5f"
            },
            "marker": {
             "line": {
              "color": "#E5ECF6",
              "width": 0.5
             },
             "pattern": {
              "fillmode": "overlay",
              "size": 10,
              "solidity": 0.2
             }
            },
            "type": "bar"
           }
          ],
          "barpolar": [
           {
            "marker": {
             "line": {
              "color": "#E5ECF6",
              "width": 0.5
             },
             "pattern": {
              "fillmode": "overlay",
              "size": 10,
              "solidity": 0.2
             }
            },
            "type": "barpolar"
           }
          ],
          "carpet": [
           {
            "aaxis": {
             "endlinecolor": "#2a3f5f",
             "gridcolor": "white",
             "linecolor": "white",
             "minorgridcolor": "white",
             "startlinecolor": "#2a3f5f"
            },
            "baxis": {
             "endlinecolor": "#2a3f5f",
             "gridcolor": "white",
             "linecolor": "white",
             "minorgridcolor": "white",
             "startlinecolor": "#2a3f5f"
            },
            "type": "carpet"
           }
          ],
          "choropleth": [
           {
            "colorbar": {
             "outlinewidth": 0,
             "ticks": ""
            },
            "type": "choropleth"
           }
          ],
          "contour": [
           {
            "colorbar": {
             "outlinewidth": 0,
             "ticks": ""
            },
            "colorscale": [
             [
              0,
              "#0d0887"
             ],
             [
              0.1111111111111111,
              "#46039f"
             ],
             [
              0.2222222222222222,
              "#7201a8"
             ],
             [
              0.3333333333333333,
              "#9c179e"
             ],
             [
              0.4444444444444444,
              "#bd3786"
             ],
             [
              0.5555555555555556,
              "#d8576b"
             ],
             [
              0.6666666666666666,
              "#ed7953"
             ],
             [
              0.7777777777777778,
              "#fb9f3a"
             ],
             [
              0.8888888888888888,
              "#fdca26"
             ],
             [
              1,
              "#f0f921"
             ]
            ],
            "type": "contour"
           }
          ],
          "contourcarpet": [
           {
            "colorbar": {
             "outlinewidth": 0,
             "ticks": ""
            },
            "type": "contourcarpet"
           }
          ],
          "heatmap": [
           {
            "colorbar": {
             "outlinewidth": 0,
             "ticks": ""
            },
            "colorscale": [
             [
              0,
              "#0d0887"
             ],
             [
              0.1111111111111111,
              "#46039f"
             ],
             [
              0.2222222222222222,
              "#7201a8"
             ],
             [
              0.3333333333333333,
              "#9c179e"
             ],
             [
              0.4444444444444444,
              "#bd3786"
             ],
             [
              0.5555555555555556,
              "#d8576b"
             ],
             [
              0.6666666666666666,
              "#ed7953"
             ],
             [
              0.7777777777777778,
              "#fb9f3a"
             ],
             [
              0.8888888888888888,
              "#fdca26"
             ],
             [
              1,
              "#f0f921"
             ]
            ],
            "type": "heatmap"
           }
          ],
          "heatmapgl": [
           {
            "colorbar": {
             "outlinewidth": 0,
             "ticks": ""
            },
            "colorscale": [
             [
              0,
              "#0d0887"
             ],
             [
              0.1111111111111111,
              "#46039f"
             ],
             [
              0.2222222222222222,
              "#7201a8"
             ],
             [
              0.3333333333333333,
              "#9c179e"
             ],
             [
              0.4444444444444444,
              "#bd3786"
             ],
             [
              0.5555555555555556,
              "#d8576b"
             ],
             [
              0.6666666666666666,
              "#ed7953"
             ],
             [
              0.7777777777777778,
              "#fb9f3a"
             ],
             [
              0.8888888888888888,
              "#fdca26"
             ],
             [
              1,
              "#f0f921"
             ]
            ],
            "type": "heatmapgl"
           }
          ],
          "histogram": [
           {
            "marker": {
             "pattern": {
              "fillmode": "overlay",
              "size": 10,
              "solidity": 0.2
             }
            },
            "type": "histogram"
           }
          ],
          "histogram2d": [
           {
            "colorbar": {
             "outlinewidth": 0,
             "ticks": ""
            },
            "colorscale": [
             [
              0,
              "#0d0887"
             ],
             [
              0.1111111111111111,
              "#46039f"
             ],
             [
              0.2222222222222222,
              "#7201a8"
             ],
             [
              0.3333333333333333,
              "#9c179e"
             ],
             [
              0.4444444444444444,
              "#bd3786"
             ],
             [
              0.5555555555555556,
              "#d8576b"
             ],
             [
              0.6666666666666666,
              "#ed7953"
             ],
             [
              0.7777777777777778,
              "#fb9f3a"
             ],
             [
              0.8888888888888888,
              "#fdca26"
             ],
             [
              1,
              "#f0f921"
             ]
            ],
            "type": "histogram2d"
           }
          ],
          "histogram2dcontour": [
           {
            "colorbar": {
             "outlinewidth": 0,
             "ticks": ""
            },
            "colorscale": [
             [
              0,
              "#0d0887"
             ],
             [
              0.1111111111111111,
              "#46039f"
             ],
             [
              0.2222222222222222,
              "#7201a8"
             ],
             [
              0.3333333333333333,
              "#9c179e"
             ],
             [
              0.4444444444444444,
              "#bd3786"
             ],
             [
              0.5555555555555556,
              "#d8576b"
             ],
             [
              0.6666666666666666,
              "#ed7953"
             ],
             [
              0.7777777777777778,
              "#fb9f3a"
             ],
             [
              0.8888888888888888,
              "#fdca26"
             ],
             [
              1,
              "#f0f921"
             ]
            ],
            "type": "histogram2dcontour"
           }
          ],
          "mesh3d": [
           {
            "colorbar": {
             "outlinewidth": 0,
             "ticks": ""
            },
            "type": "mesh3d"
           }
          ],
          "parcoords": [
           {
            "line": {
             "colorbar": {
              "outlinewidth": 0,
              "ticks": ""
             }
            },
            "type": "parcoords"
           }
          ],
          "pie": [
           {
            "automargin": true,
            "type": "pie"
           }
          ],
          "scatter": [
           {
            "fillpattern": {
             "fillmode": "overlay",
             "size": 10,
             "solidity": 0.2
            },
            "type": "scatter"
           }
          ],
          "scatter3d": [
           {
            "line": {
             "colorbar": {
              "outlinewidth": 0,
              "ticks": ""
             }
            },
            "marker": {
             "colorbar": {
              "outlinewidth": 0,
              "ticks": ""
             }
            },
            "type": "scatter3d"
           }
          ],
          "scattercarpet": [
           {
            "marker": {
             "colorbar": {
              "outlinewidth": 0,
              "ticks": ""
             }
            },
            "type": "scattercarpet"
           }
          ],
          "scattergeo": [
           {
            "marker": {
             "colorbar": {
              "outlinewidth": 0,
              "ticks": ""
             }
            },
            "type": "scattergeo"
           }
          ],
          "scattergl": [
           {
            "marker": {
             "colorbar": {
              "outlinewidth": 0,
              "ticks": ""
             }
            },
            "type": "scattergl"
           }
          ],
          "scattermapbox": [
           {
            "marker": {
             "colorbar": {
              "outlinewidth": 0,
              "ticks": ""
             }
            },
            "type": "scattermapbox"
           }
          ],
          "scatterpolar": [
           {
            "marker": {
             "colorbar": {
              "outlinewidth": 0,
              "ticks": ""
             }
            },
            "type": "scatterpolar"
           }
          ],
          "scatterpolargl": [
           {
            "marker": {
             "colorbar": {
              "outlinewidth": 0,
              "ticks": ""
             }
            },
            "type": "scatterpolargl"
           }
          ],
          "scatterternary": [
           {
            "marker": {
             "colorbar": {
              "outlinewidth": 0,
              "ticks": ""
             }
            },
            "type": "scatterternary"
           }
          ],
          "surface": [
           {
            "colorbar": {
             "outlinewidth": 0,
             "ticks": ""
            },
            "colorscale": [
             [
              0,
              "#0d0887"
             ],
             [
              0.1111111111111111,
              "#46039f"
             ],
             [
              0.2222222222222222,
              "#7201a8"
             ],
             [
              0.3333333333333333,
              "#9c179e"
             ],
             [
              0.4444444444444444,
              "#bd3786"
             ],
             [
              0.5555555555555556,
              "#d8576b"
             ],
             [
              0.6666666666666666,
              "#ed7953"
             ],
             [
              0.7777777777777778,
              "#fb9f3a"
             ],
             [
              0.8888888888888888,
              "#fdca26"
             ],
             [
              1,
              "#f0f921"
             ]
            ],
            "type": "surface"
           }
          ],
          "table": [
           {
            "cells": {
             "fill": {
              "color": "#EBF0F8"
             },
             "line": {
              "color": "white"
             }
            },
            "header": {
             "fill": {
              "color": "#C8D4E3"
             },
             "line": {
              "color": "white"
             }
            },
            "type": "table"
           }
          ]
         },
         "layout": {
          "annotationdefaults": {
           "arrowcolor": "#2a3f5f",
           "arrowhead": 0,
           "arrowwidth": 1
          },
          "autotypenumbers": "strict",
          "coloraxis": {
           "colorbar": {
            "outlinewidth": 0,
            "ticks": ""
           }
          },
          "colorscale": {
           "diverging": [
            [
             0,
             "#8e0152"
            ],
            [
             0.1,
             "#c51b7d"
            ],
            [
             0.2,
             "#de77ae"
            ],
            [
             0.3,
             "#f1b6da"
            ],
            [
             0.4,
             "#fde0ef"
            ],
            [
             0.5,
             "#f7f7f7"
            ],
            [
             0.6,
             "#e6f5d0"
            ],
            [
             0.7,
             "#b8e186"
            ],
            [
             0.8,
             "#7fbc41"
            ],
            [
             0.9,
             "#4d9221"
            ],
            [
             1,
             "#276419"
            ]
           ],
           "sequential": [
            [
             0,
             "#0d0887"
            ],
            [
             0.1111111111111111,
             "#46039f"
            ],
            [
             0.2222222222222222,
             "#7201a8"
            ],
            [
             0.3333333333333333,
             "#9c179e"
            ],
            [
             0.4444444444444444,
             "#bd3786"
            ],
            [
             0.5555555555555556,
             "#d8576b"
            ],
            [
             0.6666666666666666,
             "#ed7953"
            ],
            [
             0.7777777777777778,
             "#fb9f3a"
            ],
            [
             0.8888888888888888,
             "#fdca26"
            ],
            [
             1,
             "#f0f921"
            ]
           ],
           "sequentialminus": [
            [
             0,
             "#0d0887"
            ],
            [
             0.1111111111111111,
             "#46039f"
            ],
            [
             0.2222222222222222,
             "#7201a8"
            ],
            [
             0.3333333333333333,
             "#9c179e"
            ],
            [
             0.4444444444444444,
             "#bd3786"
            ],
            [
             0.5555555555555556,
             "#d8576b"
            ],
            [
             0.6666666666666666,
             "#ed7953"
            ],
            [
             0.7777777777777778,
             "#fb9f3a"
            ],
            [
             0.8888888888888888,
             "#fdca26"
            ],
            [
             1,
             "#f0f921"
            ]
           ]
          },
          "colorway": [
           "#636efa",
           "#EF553B",
           "#00cc96",
           "#ab63fa",
           "#FFA15A",
           "#19d3f3",
           "#FF6692",
           "#B6E880",
           "#FF97FF",
           "#FECB52"
          ],
          "font": {
           "color": "#2a3f5f"
          },
          "geo": {
           "bgcolor": "white",
           "lakecolor": "white",
           "landcolor": "#E5ECF6",
           "showlakes": true,
           "showland": true,
           "subunitcolor": "white"
          },
          "hoverlabel": {
           "align": "left"
          },
          "hovermode": "closest",
          "mapbox": {
           "style": "light"
          },
          "paper_bgcolor": "white",
          "plot_bgcolor": "#E5ECF6",
          "polar": {
           "angularaxis": {
            "gridcolor": "white",
            "linecolor": "white",
            "ticks": ""
           },
           "bgcolor": "#E5ECF6",
           "radialaxis": {
            "gridcolor": "white",
            "linecolor": "white",
            "ticks": ""
           }
          },
          "scene": {
           "xaxis": {
            "backgroundcolor": "#E5ECF6",
            "gridcolor": "white",
            "gridwidth": 2,
            "linecolor": "white",
            "showbackground": true,
            "ticks": "",
            "zerolinecolor": "white"
           },
           "yaxis": {
            "backgroundcolor": "#E5ECF6",
            "gridcolor": "white",
            "gridwidth": 2,
            "linecolor": "white",
            "showbackground": true,
            "ticks": "",
            "zerolinecolor": "white"
           },
           "zaxis": {
            "backgroundcolor": "#E5ECF6",
            "gridcolor": "white",
            "gridwidth": 2,
            "linecolor": "white",
            "showbackground": true,
            "ticks": "",
            "zerolinecolor": "white"
           }
          },
          "shapedefaults": {
           "line": {
            "color": "#2a3f5f"
           }
          },
          "ternary": {
           "aaxis": {
            "gridcolor": "white",
            "linecolor": "white",
            "ticks": ""
           },
           "baxis": {
            "gridcolor": "white",
            "linecolor": "white",
            "ticks": ""
           },
           "bgcolor": "#E5ECF6",
           "caxis": {
            "gridcolor": "white",
            "linecolor": "white",
            "ticks": ""
           }
          },
          "title": {
           "x": 0.05
          },
          "xaxis": {
           "automargin": true,
           "gridcolor": "white",
           "linecolor": "white",
           "ticks": "",
           "title": {
            "standoff": 15
           },
           "zerolinecolor": "white",
           "zerolinewidth": 2
          },
          "yaxis": {
           "automargin": true,
           "gridcolor": "white",
           "linecolor": "white",
           "ticks": "",
           "title": {
            "standoff": 15
           },
           "zerolinecolor": "white",
           "zerolinewidth": 2
          }
         }
        },
        "title": {
         "text": "Accuracy vs. Depth"
        },
        "xaxis": {
         "anchor": "y",
         "domain": [
          0,
          1
         ],
         "title": {
          "text": "max_depth"
         }
        },
        "yaxis": {
         "anchor": "x",
         "domain": [
          0,
          1
         ],
         "title": {
          "text": "value"
         }
        }
       }
      }
     },
     "metadata": {},
     "output_type": "display_data"
    }
   ],
   "source": [
    "X_train, X_val, y_train, y_val = train_test_split(X_train, y_train, test_size=0.1, random_state=42)\n",
    "\n",
    "val_accs = []\n",
    "train_accs = []\n",
    "test_accs = []\n",
    "for max_depth in range(6):\n",
    "    dt = DecisionTree(max_depth=max_depth, min_samples_split=min_samples_split)\n",
    "    dt.fit(X_train, y_train)\n",
    "    y_pred_val = dt.predict(X_val)\n",
    "    y_pred_train = dt.predict(X_train)\n",
    "    y_pred_test = dt.predict(X_test)\n",
    "    val_acc = accuracy_score(y_val, y_pred_val)\n",
    "    train_acc = accuracy_score(y_train, y_pred_train)\n",
    "    test_acc = accuracy_score(y_test, y_pred_test)\n",
    "    val_accs.append(val_acc)\n",
    "    train_accs.append(train_acc)\n",
    "    test_accs.append(test_acc)\n",
    "\n",
    "# line plot the accuracies\n",
    "import plotly.express as px\n",
    "\n",
    "df = pd.DataFrame({\n",
    "    'max_depth': range(6),\n",
    "    'train_acc': train_accs,\n",
    "    'val_acc': val_accs,\n",
    "    'test_acc': test_accs\n",
    "})\n",
    "\n",
    "fig = px.line(df, x='max_depth', y=['train_acc', 'val_acc', 'test_acc'], title='Accuracy vs. Depth')\n",
    "fig.show()\n"
   ]
  },
  {
   "cell_type": "code",
   "execution_count": null,
   "metadata": {},
   "outputs": [],
   "source": []
  }
 ],
 "metadata": {
  "kernelspec": {
   "display_name": "venv",
   "language": "python",
   "name": "python3"
  },
  "language_info": {
   "codemirror_mode": {
    "name": "ipython",
    "version": 3
   },
   "file_extension": ".py",
   "mimetype": "text/x-python",
   "name": "python",
   "nbconvert_exporter": "python",
   "pygments_lexer": "ipython3",
   "version": "3.10.9"
  }
 },
 "nbformat": 4,
 "nbformat_minor": 2
}
